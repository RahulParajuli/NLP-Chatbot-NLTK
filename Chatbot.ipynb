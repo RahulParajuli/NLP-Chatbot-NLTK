{
  "cells": [
    {
      "cell_type": "markdown",
      "metadata": {
        "colab_type": "text",
        "id": "view-in-github"
      },
      "source": [
        "<a href=\"https://colab.research.google.com/github/RahulParajuli/NLP-Chatbot-NLTK/blob/main/Chatbot.ipynb\" target=\"_parent\"><img src=\"https://colab.research.google.com/assets/colab-badge.svg\" alt=\"Open In Colab\"/></a>"
      ]
    },
    {
      "cell_type": "code",
      "execution_count": 38,
      "metadata": {
        "colab": {
          "base_uri": "https://localhost:8080/"
        },
        "id": "BdZrA_CJq-1f",
        "outputId": "81324676-4d59-49d0-edc0-575a06b70d00"
      },
      "outputs": [
        {
          "name": "stderr",
          "output_type": "stream",
          "text": [
            "[nltk_data] Downloading package punkt to /root/nltk_data...\n",
            "[nltk_data]   Package punkt is already up-to-date!\n",
            "[nltk_data] Downloading package wordnet to /root/nltk_data...\n",
            "[nltk_data]   Package wordnet is already up-to-date!\n",
            "[nltk_data] Downloading package omw-1.4 to /root/nltk_data...\n",
            "[nltk_data]   Package omw-1.4 is already up-to-date!\n"
          ]
        },
        {
          "data": {
            "text/plain": [
              "True"
            ]
          },
          "execution_count": 38,
          "metadata": {},
          "output_type": "execute_result"
        }
      ],
      "source": [
        "import random\n",
        "import json\n",
        "import pickle\n",
        "import numpy as np\n",
        "import nltk\n",
        "nltk.download('punkt')\n",
        "nltk.download('wordnet')\n",
        "nltk.download(\"omw-1.4\")"
      ]
    },
    {
      "cell_type": "code",
      "execution_count": 39,
      "metadata": {
        "id": "igb9_kHc571f"
      },
      "outputs": [],
      "source": [
        "from nltk.stem import WordNetLemmatizer\n",
        "from tensorflow.keras.models import Sequential\n",
        "from tensorflow.keras.layers import Dense, Activation, Dropout\n",
        "from tensorflow.keras.optimizers import SGD"
      ]
    },
    {
      "cell_type": "code",
      "execution_count": 40,
      "metadata": {
        "id": "v0jhkwq2598C"
      },
      "outputs": [],
      "source": [
        "lemmatizer = WordNetLemmatizer()\n",
        "intents = json.loads(open('intents.json').read())"
      ]
    },
    {
      "cell_type": "code",
      "execution_count": 41,
      "metadata": {
        "id": "edMx_Lra6XuN"
      },
      "outputs": [],
      "source": [
        "words = []\n",
        "classes = []\n",
        "documents = []\n",
        "ignore_letters = ['?', '!', '.', ',']"
      ]
    },
    {
      "cell_type": "code",
      "execution_count": 42,
      "metadata": {
        "id": "f8-XYM0-6ZHB"
      },
      "outputs": [],
      "source": [
        "for intent in intents['intents']:\n",
        "    for pattern in intent['patterns']:\n",
        "        word_list = nltk.word_tokenize(pattern)\n",
        "        words.extend(word_list)\n",
        "        documents.append((word_list, intent['tag']))\n",
        "        if intent['tag'] not in classes:\n",
        "            classes.append(intent['tag'])"
      ]
    },
    {
      "cell_type": "code",
      "execution_count": 43,
      "metadata": {
        "id": "dhEdLvUf7QEt"
      },
      "outputs": [],
      "source": [
        "words = [lemmatizer.lemmatize(word) for word in words if word not in ignore_letters]\n",
        "words = sorted(set(words)) #to reduce duplicate elements\n"
      ]
    },
    {
      "cell_type": "code",
      "execution_count": 44,
      "metadata": {
        "id": "4AlQpZz37aua"
      },
      "outputs": [],
      "source": [
        "classes = sorted(set(classes))"
      ]
    },
    {
      "cell_type": "code",
      "execution_count": 45,
      "metadata": {
        "colab": {
          "base_uri": "https://localhost:8080/"
        },
        "id": "kVr0VsYr7cP1",
        "outputId": "8b118149-bfc4-4488-b166-ac887f435618"
      },
      "outputs": [
        {
          "name": "stdout",
          "output_type": "stream",
          "text": [
            "[\"'s\", 'Bye', 'Do', 'Good', 'Goodbye', 'Hello', 'Hey', 'Hi', 'How', 'Is', 'Mastercard', 'See', 'Thank', 'Thanks', 'That', 'VISA', 'What', 'When', 'Where', 'a', 'accept', 'address', 'anyone', 'are', 'card', 'cost', 'credit', 'day', 'doe', 'have', 'helpful', 'hour', 'it', 'later', 'located', 'location', 'moped', 'motorcycle', 'much', 'open', 'physical', 'rent', 'scooter', 'take', 'there', 'to', 'you', 'your']\n"
          ]
        }
      ],
      "source": [
        "print(words)"
      ]
    },
    {
      "cell_type": "code",
      "execution_count": 46,
      "metadata": {
        "colab": {
          "base_uri": "https://localhost:8080/"
        },
        "id": "5QAV6fIK7ddd",
        "outputId": "7097bad7-1572-4eac-bd06-960b9c6b9817"
      },
      "outputs": [
        {
          "name": "stdout",
          "output_type": "stream",
          "text": [
            "['goodbye', 'greeting', 'hours', 'location', 'mopeds', 'payments', 'rental', 'thanks']\n"
          ]
        }
      ],
      "source": [
        "print(classes)"
      ]
    },
    {
      "cell_type": "code",
      "execution_count": 47,
      "metadata": {
        "id": "ZxyP51aN7fHq"
      },
      "outputs": [],
      "source": [
        "pickle.dump(words, open('words.pkl', 'wb'))\n",
        "pickle.dump(classes, open('classes.pkl', 'wb'))"
      ]
    },
    {
      "cell_type": "code",
      "execution_count": 48,
      "metadata": {
        "id": "zdvvAKLD7gsU"
      },
      "outputs": [],
      "source": [
        "training = []\n",
        "output_empty = [0] * len(classes)"
      ]
    },
    {
      "cell_type": "code",
      "execution_count": 49,
      "metadata": {
        "id": "luO3OVDm7iiT"
      },
      "outputs": [],
      "source": [
        "for document in documents:\n",
        "    bag = []\n",
        "    word_patterns = document[0]\n",
        "    word_patterns = [lemmatizer.lemmatize(word.lower()) for word in word_patterns]\n",
        "    for word in words:\n",
        "        bag.append(1) if word in word_patterns else bag.append(0)\n",
        "\n",
        "    output_row = list(output_empty)\n",
        "    output_row[classes.index(document[1])] = 1\n",
        "\n",
        "    training.append([bag, output_row])"
      ]
    },
    {
      "cell_type": "code",
      "execution_count": 50,
      "metadata": {
        "colab": {
          "base_uri": "https://localhost:8080/"
        },
        "id": "NGJDMbOO7tsz",
        "outputId": "36cfbf88-208b-454a-a5d6-278edb144ebc"
      },
      "outputs": [
        {
          "name": "stderr",
          "output_type": "stream",
          "text": [
            "/usr/local/lib/python3.7/dist-packages/ipykernel_launcher.py:2: VisibleDeprecationWarning: Creating an ndarray from ragged nested sequences (which is a list-or-tuple of lists-or-tuples-or ndarrays with different lengths or shapes) is deprecated. If you meant to do this, you must specify 'dtype=object' when creating the ndarray.\n",
            "  \n"
          ]
        }
      ],
      "source": [
        "random.shuffle(training)\n",
        "training = np.array(training)\n"
      ]
    },
    {
      "cell_type": "code",
      "execution_count": 51,
      "metadata": {
        "id": "dtoyPtW67vVl"
      },
      "outputs": [],
      "source": [
        "train_x = list(training[:, 0])\n",
        "train_y = list(training[:, 1])"
      ]
    },
    {
      "cell_type": "code",
      "execution_count": 52,
      "metadata": {
        "id": "bLhK1OE57w5-"
      },
      "outputs": [],
      "source": [
        "model = Sequential()\n",
        "model.add(Dense(128, input_shape=(len(train_x[0]),), activation='relu'))\n",
        "model.add(Dropout(0.5))\n",
        "model.add(Dense(64, activation='relu'))\n",
        "model.add(Dropout(0.5))\n",
        "model.add(Dense(len(train_y[0]), activation='softmax'))"
      ]
    },
    {
      "cell_type": "code",
      "execution_count": 53,
      "metadata": {
        "colab": {
          "base_uri": "https://localhost:8080/"
        },
        "id": "MOVKn5XI7yu5",
        "outputId": "f6ffb7dc-3146-41fd-9339-ed953c7f68b4"
      },
      "outputs": [
        {
          "name": "stderr",
          "output_type": "stream",
          "text": [
            "/usr/local/lib/python3.7/dist-packages/keras/optimizer_v2/gradient_descent.py:102: UserWarning: The `lr` argument is deprecated, use `learning_rate` instead.\n",
            "  super(SGD, self).__init__(name, **kwargs)\n"
          ]
        }
      ],
      "source": [
        "sgd = SGD(lr=0.01, decay=1e-6, momentum=0.9, nesterov=True)\n",
        "model.compile(loss='categorical_crossentropy', optimizer=sgd, metrics=['accuracy'])\n"
      ]
    },
    {
      "cell_type": "code",
      "execution_count": 54,
      "metadata": {
        "colab": {
          "base_uri": "https://localhost:8080/"
        },
        "id": "LO7iqKE270Ng",
        "outputId": "6bfe5b2b-e927-4dde-a64a-46fe82f70d13"
      },
      "outputs": [
        {
          "name": "stdout",
          "output_type": "stream",
          "text": [
            "Epoch 1/200\n",
            "6/6 [==============================] - 0s 3ms/step - loss: 2.0945 - accuracy: 0.1852\n",
            "Epoch 2/200\n",
            "6/6 [==============================] - 0s 2ms/step - loss: 2.1122 - accuracy: 0.1852\n",
            "Epoch 3/200\n",
            "6/6 [==============================] - 0s 2ms/step - loss: 2.0216 - accuracy: 0.2222\n",
            "Epoch 4/200\n",
            "6/6 [==============================] - 0s 3ms/step - loss: 2.0308 - accuracy: 0.2222\n",
            "Epoch 5/200\n",
            "6/6 [==============================] - 0s 4ms/step - loss: 1.8924 - accuracy: 0.3333\n",
            "Epoch 6/200\n",
            "6/6 [==============================] - 0s 2ms/step - loss: 1.7913 - accuracy: 0.4444\n",
            "Epoch 7/200\n",
            "6/6 [==============================] - 0s 3ms/step - loss: 1.7694 - accuracy: 0.3333\n",
            "Epoch 8/200\n",
            "6/6 [==============================] - 0s 2ms/step - loss: 1.7316 - accuracy: 0.4074\n",
            "Epoch 9/200\n",
            "6/6 [==============================] - 0s 2ms/step - loss: 1.7619 - accuracy: 0.4074\n",
            "Epoch 10/200\n",
            "6/6 [==============================] - 0s 2ms/step - loss: 1.5780 - accuracy: 0.4815\n",
            "Epoch 11/200\n",
            "6/6 [==============================] - 0s 2ms/step - loss: 1.4844 - accuracy: 0.5926\n",
            "Epoch 12/200\n",
            "6/6 [==============================] - 0s 2ms/step - loss: 1.4671 - accuracy: 0.5556\n",
            "Epoch 13/200\n",
            "6/6 [==============================] - 0s 2ms/step - loss: 1.3413 - accuracy: 0.5926\n",
            "Epoch 14/200\n",
            "6/6 [==============================] - 0s 2ms/step - loss: 1.3442 - accuracy: 0.5556\n",
            "Epoch 15/200\n",
            "6/6 [==============================] - 0s 3ms/step - loss: 1.4642 - accuracy: 0.5556\n",
            "Epoch 16/200\n",
            "6/6 [==============================] - 0s 2ms/step - loss: 1.1647 - accuracy: 0.7778\n",
            "Epoch 17/200\n",
            "6/6 [==============================] - 0s 2ms/step - loss: 1.0803 - accuracy: 0.7778\n",
            "Epoch 18/200\n",
            "6/6 [==============================] - 0s 2ms/step - loss: 1.1530 - accuracy: 0.6667\n",
            "Epoch 19/200\n",
            "6/6 [==============================] - 0s 2ms/step - loss: 1.1589 - accuracy: 0.6296\n",
            "Epoch 20/200\n",
            "6/6 [==============================] - 0s 3ms/step - loss: 1.1102 - accuracy: 0.6296\n",
            "Epoch 21/200\n",
            "6/6 [==============================] - 0s 3ms/step - loss: 0.9863 - accuracy: 0.7037\n",
            "Epoch 22/200\n",
            "6/6 [==============================] - 0s 2ms/step - loss: 0.9613 - accuracy: 0.7778\n",
            "Epoch 23/200\n",
            "6/6 [==============================] - 0s 3ms/step - loss: 0.9490 - accuracy: 0.7778\n",
            "Epoch 24/200\n",
            "6/6 [==============================] - 0s 2ms/step - loss: 1.0136 - accuracy: 0.7037\n",
            "Epoch 25/200\n",
            "6/6 [==============================] - 0s 3ms/step - loss: 0.9781 - accuracy: 0.7407\n",
            "Epoch 26/200\n",
            "6/6 [==============================] - 0s 3ms/step - loss: 0.7198 - accuracy: 0.7778\n",
            "Epoch 27/200\n",
            "6/6 [==============================] - 0s 3ms/step - loss: 0.8841 - accuracy: 0.7407\n",
            "Epoch 28/200\n",
            "6/6 [==============================] - 0s 3ms/step - loss: 0.8209 - accuracy: 0.7407\n",
            "Epoch 29/200\n",
            "6/6 [==============================] - 0s 3ms/step - loss: 0.7906 - accuracy: 0.7778\n",
            "Epoch 30/200\n",
            "6/6 [==============================] - 0s 2ms/step - loss: 0.8099 - accuracy: 0.7778\n",
            "Epoch 31/200\n",
            "6/6 [==============================] - 0s 2ms/step - loss: 0.6333 - accuracy: 0.7778\n",
            "Epoch 32/200\n",
            "6/6 [==============================] - 0s 2ms/step - loss: 0.7811 - accuracy: 0.7407\n",
            "Epoch 33/200\n",
            "6/6 [==============================] - 0s 2ms/step - loss: 0.6877 - accuracy: 0.8148\n",
            "Epoch 34/200\n",
            "6/6 [==============================] - 0s 2ms/step - loss: 0.7374 - accuracy: 0.7407\n",
            "Epoch 35/200\n",
            "6/6 [==============================] - 0s 4ms/step - loss: 0.5602 - accuracy: 0.7778\n",
            "Epoch 36/200\n",
            "6/6 [==============================] - 0s 3ms/step - loss: 0.7327 - accuracy: 0.7407\n",
            "Epoch 37/200\n",
            "6/6 [==============================] - 0s 3ms/step - loss: 0.4892 - accuracy: 0.8519\n",
            "Epoch 38/200\n",
            "6/6 [==============================] - 0s 2ms/step - loss: 0.6260 - accuracy: 0.7778\n",
            "Epoch 39/200\n",
            "6/6 [==============================] - 0s 3ms/step - loss: 0.6617 - accuracy: 0.7778\n",
            "Epoch 40/200\n",
            "6/6 [==============================] - 0s 2ms/step - loss: 0.4510 - accuracy: 0.8519\n",
            "Epoch 41/200\n",
            "6/6 [==============================] - 0s 2ms/step - loss: 0.6854 - accuracy: 0.7778\n",
            "Epoch 42/200\n",
            "6/6 [==============================] - 0s 3ms/step - loss: 0.6649 - accuracy: 0.7407\n",
            "Epoch 43/200\n",
            "6/6 [==============================] - 0s 2ms/step - loss: 0.6150 - accuracy: 0.8148\n",
            "Epoch 44/200\n",
            "6/6 [==============================] - 0s 3ms/step - loss: 0.5470 - accuracy: 0.8148\n",
            "Epoch 45/200\n",
            "6/6 [==============================] - 0s 3ms/step - loss: 0.5585 - accuracy: 0.8148\n",
            "Epoch 46/200\n",
            "6/6 [==============================] - 0s 3ms/step - loss: 0.5500 - accuracy: 0.8148\n",
            "Epoch 47/200\n",
            "6/6 [==============================] - 0s 3ms/step - loss: 0.4887 - accuracy: 0.8519\n",
            "Epoch 48/200\n",
            "6/6 [==============================] - 0s 3ms/step - loss: 0.4977 - accuracy: 0.8889\n",
            "Epoch 49/200\n",
            "6/6 [==============================] - 0s 3ms/step - loss: 0.4936 - accuracy: 0.8519\n",
            "Epoch 50/200\n",
            "6/6 [==============================] - 0s 2ms/step - loss: 0.5115 - accuracy: 0.7407\n",
            "Epoch 51/200\n",
            "6/6 [==============================] - 0s 2ms/step - loss: 0.4585 - accuracy: 0.8148\n",
            "Epoch 52/200\n",
            "6/6 [==============================] - 0s 4ms/step - loss: 0.5153 - accuracy: 0.8148\n",
            "Epoch 53/200\n",
            "6/6 [==============================] - 0s 3ms/step - loss: 0.4844 - accuracy: 0.8519\n",
            "Epoch 54/200\n",
            "6/6 [==============================] - 0s 2ms/step - loss: 0.4214 - accuracy: 0.8148\n",
            "Epoch 55/200\n",
            "6/6 [==============================] - 0s 2ms/step - loss: 0.3636 - accuracy: 0.8889\n",
            "Epoch 56/200\n",
            "6/6 [==============================] - 0s 3ms/step - loss: 0.4101 - accuracy: 0.8519\n",
            "Epoch 57/200\n",
            "6/6 [==============================] - 0s 2ms/step - loss: 0.4853 - accuracy: 0.8148\n",
            "Epoch 58/200\n",
            "6/6 [==============================] - 0s 2ms/step - loss: 0.4322 - accuracy: 0.8889\n",
            "Epoch 59/200\n",
            "6/6 [==============================] - 0s 3ms/step - loss: 0.4917 - accuracy: 0.7778\n",
            "Epoch 60/200\n",
            "6/6 [==============================] - 0s 2ms/step - loss: 0.4479 - accuracy: 0.8148\n",
            "Epoch 61/200\n",
            "6/6 [==============================] - 0s 2ms/step - loss: 0.3945 - accuracy: 0.8889\n",
            "Epoch 62/200\n",
            "6/6 [==============================] - 0s 3ms/step - loss: 0.4035 - accuracy: 0.8519\n",
            "Epoch 63/200\n",
            "6/6 [==============================] - 0s 3ms/step - loss: 0.5295 - accuracy: 0.7407\n",
            "Epoch 64/200\n",
            "6/6 [==============================] - 0s 3ms/step - loss: 0.3892 - accuracy: 0.8889\n",
            "Epoch 65/200\n",
            "6/6 [==============================] - 0s 3ms/step - loss: 0.4309 - accuracy: 0.8519\n",
            "Epoch 66/200\n",
            "6/6 [==============================] - 0s 3ms/step - loss: 0.4351 - accuracy: 0.8889\n",
            "Epoch 67/200\n",
            "6/6 [==============================] - 0s 2ms/step - loss: 0.4196 - accuracy: 0.7778\n",
            "Epoch 68/200\n",
            "6/6 [==============================] - 0s 3ms/step - loss: 0.3700 - accuracy: 0.8519\n",
            "Epoch 69/200\n",
            "6/6 [==============================] - 0s 3ms/step - loss: 0.3876 - accuracy: 0.8519\n",
            "Epoch 70/200\n",
            "6/6 [==============================] - 0s 3ms/step - loss: 0.4253 - accuracy: 0.8519\n",
            "Epoch 71/200\n",
            "6/6 [==============================] - 0s 2ms/step - loss: 0.4318 - accuracy: 0.8519\n",
            "Epoch 72/200\n",
            "6/6 [==============================] - 0s 2ms/step - loss: 0.4129 - accuracy: 0.8148\n",
            "Epoch 73/200\n",
            "6/6 [==============================] - 0s 3ms/step - loss: 0.3132 - accuracy: 0.8889\n",
            "Epoch 74/200\n",
            "6/6 [==============================] - 0s 3ms/step - loss: 0.5312 - accuracy: 0.8148\n",
            "Epoch 75/200\n",
            "6/6 [==============================] - 0s 3ms/step - loss: 0.4196 - accuracy: 0.8148\n",
            "Epoch 76/200\n",
            "6/6 [==============================] - 0s 2ms/step - loss: 0.2938 - accuracy: 0.8519\n",
            "Epoch 77/200\n",
            "6/6 [==============================] - 0s 4ms/step - loss: 0.3802 - accuracy: 0.8519\n",
            "Epoch 78/200\n",
            "6/6 [==============================] - 0s 3ms/step - loss: 0.5311 - accuracy: 0.8148\n",
            "Epoch 79/200\n",
            "6/6 [==============================] - 0s 3ms/step - loss: 0.3507 - accuracy: 0.8889\n",
            "Epoch 80/200\n",
            "6/6 [==============================] - 0s 2ms/step - loss: 0.3737 - accuracy: 0.8519\n",
            "Epoch 81/200\n",
            "6/6 [==============================] - 0s 3ms/step - loss: 0.2793 - accuracy: 0.9259\n",
            "Epoch 82/200\n",
            "6/6 [==============================] - 0s 2ms/step - loss: 0.3347 - accuracy: 0.8519\n",
            "Epoch 83/200\n",
            "6/6 [==============================] - 0s 2ms/step - loss: 0.3929 - accuracy: 0.8519\n",
            "Epoch 84/200\n",
            "6/6 [==============================] - 0s 2ms/step - loss: 0.4245 - accuracy: 0.8148\n",
            "Epoch 85/200\n",
            "6/6 [==============================] - 0s 2ms/step - loss: 0.3595 - accuracy: 0.7778\n",
            "Epoch 86/200\n",
            "6/6 [==============================] - 0s 3ms/step - loss: 0.4041 - accuracy: 0.8519\n",
            "Epoch 87/200\n",
            "6/6 [==============================] - 0s 3ms/step - loss: 0.4235 - accuracy: 0.8148\n",
            "Epoch 88/200\n",
            "6/6 [==============================] - 0s 3ms/step - loss: 0.3415 - accuracy: 0.8148\n",
            "Epoch 89/200\n",
            "6/6 [==============================] - 0s 3ms/step - loss: 0.4808 - accuracy: 0.7778\n",
            "Epoch 90/200\n",
            "6/6 [==============================] - 0s 3ms/step - loss: 0.3712 - accuracy: 0.7778\n",
            "Epoch 91/200\n",
            "6/6 [==============================] - 0s 3ms/step - loss: 0.3882 - accuracy: 0.8148\n",
            "Epoch 92/200\n",
            "6/6 [==============================] - 0s 4ms/step - loss: 0.3577 - accuracy: 0.8889\n",
            "Epoch 93/200\n",
            "6/6 [==============================] - 0s 3ms/step - loss: 0.4670 - accuracy: 0.7778\n",
            "Epoch 94/200\n",
            "6/6 [==============================] - 0s 3ms/step - loss: 0.4158 - accuracy: 0.7778\n",
            "Epoch 95/200\n",
            "6/6 [==============================] - 0s 3ms/step - loss: 0.3596 - accuracy: 0.8148\n",
            "Epoch 96/200\n",
            "6/6 [==============================] - 0s 2ms/step - loss: 0.4335 - accuracy: 0.8519\n",
            "Epoch 97/200\n",
            "6/6 [==============================] - 0s 3ms/step - loss: 0.3544 - accuracy: 0.8889\n",
            "Epoch 98/200\n",
            "6/6 [==============================] - 0s 3ms/step - loss: 0.4285 - accuracy: 0.8519\n",
            "Epoch 99/200\n",
            "6/6 [==============================] - 0s 2ms/step - loss: 0.3638 - accuracy: 0.8519\n",
            "Epoch 100/200\n",
            "6/6 [==============================] - 0s 3ms/step - loss: 0.4143 - accuracy: 0.8148\n",
            "Epoch 101/200\n",
            "6/6 [==============================] - 0s 2ms/step - loss: 0.4350 - accuracy: 0.8148\n",
            "Epoch 102/200\n",
            "6/6 [==============================] - 0s 5ms/step - loss: 0.5547 - accuracy: 0.8148\n",
            "Epoch 103/200\n",
            "6/6 [==============================] - 0s 6ms/step - loss: 0.3116 - accuracy: 0.8148\n",
            "Epoch 104/200\n",
            "6/6 [==============================] - 0s 3ms/step - loss: 0.3167 - accuracy: 0.8519\n",
            "Epoch 105/200\n",
            "6/6 [==============================] - 0s 3ms/step - loss: 0.3679 - accuracy: 0.8148\n",
            "Epoch 106/200\n",
            "6/6 [==============================] - 0s 3ms/step - loss: 0.3231 - accuracy: 0.8519\n",
            "Epoch 107/200\n",
            "6/6 [==============================] - 0s 3ms/step - loss: 0.4085 - accuracy: 0.8889\n",
            "Epoch 108/200\n",
            "6/6 [==============================] - 0s 3ms/step - loss: 0.2990 - accuracy: 0.8519\n",
            "Epoch 109/200\n",
            "6/6 [==============================] - 0s 7ms/step - loss: 0.3007 - accuracy: 0.8889\n",
            "Epoch 110/200\n",
            "6/6 [==============================] - 0s 3ms/step - loss: 0.3551 - accuracy: 0.8148\n",
            "Epoch 111/200\n",
            "6/6 [==============================] - 0s 3ms/step - loss: 0.3424 - accuracy: 0.8519\n",
            "Epoch 112/200\n",
            "6/6 [==============================] - 0s 7ms/step - loss: 0.3268 - accuracy: 0.8889\n",
            "Epoch 113/200\n",
            "6/6 [==============================] - 0s 4ms/step - loss: 0.3391 - accuracy: 0.8148\n",
            "Epoch 114/200\n",
            "6/6 [==============================] - 0s 5ms/step - loss: 0.3583 - accuracy: 0.8889\n",
            "Epoch 115/200\n",
            "6/6 [==============================] - 0s 7ms/step - loss: 0.4067 - accuracy: 0.7778\n",
            "Epoch 116/200\n",
            "6/6 [==============================] - 0s 6ms/step - loss: 0.2786 - accuracy: 0.8889\n",
            "Epoch 117/200\n",
            "6/6 [==============================] - 0s 6ms/step - loss: 0.3626 - accuracy: 0.8889\n",
            "Epoch 118/200\n",
            "6/6 [==============================] - 0s 5ms/step - loss: 0.3575 - accuracy: 0.8148\n",
            "Epoch 119/200\n",
            "6/6 [==============================] - 0s 5ms/step - loss: 0.3398 - accuracy: 0.8519\n",
            "Epoch 120/200\n",
            "6/6 [==============================] - 0s 5ms/step - loss: 0.3724 - accuracy: 0.8519\n",
            "Epoch 121/200\n",
            "6/6 [==============================] - 0s 4ms/step - loss: 0.3459 - accuracy: 0.8889\n",
            "Epoch 122/200\n",
            "6/6 [==============================] - 0s 4ms/step - loss: 0.2613 - accuracy: 0.9259\n",
            "Epoch 123/200\n",
            "6/6 [==============================] - 0s 8ms/step - loss: 0.3766 - accuracy: 0.8519\n",
            "Epoch 124/200\n",
            "6/6 [==============================] - 0s 4ms/step - loss: 0.3276 - accuracy: 0.8519\n",
            "Epoch 125/200\n",
            "6/6 [==============================] - 0s 6ms/step - loss: 0.3090 - accuracy: 0.8889\n",
            "Epoch 126/200\n",
            "6/6 [==============================] - 0s 4ms/step - loss: 0.3290 - accuracy: 0.8148\n",
            "Epoch 127/200\n",
            "6/6 [==============================] - 0s 6ms/step - loss: 0.4224 - accuracy: 0.8148\n",
            "Epoch 128/200\n",
            "6/6 [==============================] - 0s 4ms/step - loss: 0.3607 - accuracy: 0.8148\n",
            "Epoch 129/200\n",
            "6/6 [==============================] - 0s 4ms/step - loss: 0.2066 - accuracy: 0.9259\n",
            "Epoch 130/200\n",
            "6/6 [==============================] - 0s 4ms/step - loss: 0.4119 - accuracy: 0.8148\n",
            "Epoch 131/200\n",
            "6/6 [==============================] - 0s 7ms/step - loss: 0.2529 - accuracy: 0.9259\n",
            "Epoch 132/200\n",
            "6/6 [==============================] - 0s 6ms/step - loss: 0.4007 - accuracy: 0.8148\n",
            "Epoch 133/200\n",
            "6/6 [==============================] - 0s 5ms/step - loss: 0.3522 - accuracy: 0.8889\n",
            "Epoch 134/200\n",
            "6/6 [==============================] - 0s 6ms/step - loss: 0.2940 - accuracy: 0.8889\n",
            "Epoch 135/200\n",
            "6/6 [==============================] - 0s 4ms/step - loss: 0.3290 - accuracy: 0.8519\n",
            "Epoch 136/200\n",
            "6/6 [==============================] - 0s 6ms/step - loss: 0.2783 - accuracy: 0.8519\n",
            "Epoch 137/200\n",
            "6/6 [==============================] - 0s 7ms/step - loss: 0.2421 - accuracy: 0.9259\n",
            "Epoch 138/200\n",
            "6/6 [==============================] - 0s 6ms/step - loss: 0.4108 - accuracy: 0.8148\n",
            "Epoch 139/200\n",
            "6/6 [==============================] - 0s 4ms/step - loss: 0.2713 - accuracy: 0.9630\n",
            "Epoch 140/200\n",
            "6/6 [==============================] - 0s 5ms/step - loss: 0.2983 - accuracy: 0.8889\n",
            "Epoch 141/200\n",
            "6/6 [==============================] - 0s 4ms/step - loss: 0.3216 - accuracy: 0.8889\n",
            "Epoch 142/200\n",
            "6/6 [==============================] - 0s 4ms/step - loss: 0.3027 - accuracy: 0.8519\n",
            "Epoch 143/200\n",
            "6/6 [==============================] - 0s 4ms/step - loss: 0.2740 - accuracy: 0.8889\n",
            "Epoch 144/200\n",
            "6/6 [==============================] - 0s 4ms/step - loss: 0.3205 - accuracy: 0.8889\n",
            "Epoch 145/200\n",
            "6/6 [==============================] - 0s 7ms/step - loss: 0.4094 - accuracy: 0.8148\n",
            "Epoch 146/200\n",
            "6/6 [==============================] - 0s 6ms/step - loss: 0.2987 - accuracy: 0.8519\n",
            "Epoch 147/200\n",
            "6/6 [==============================] - 0s 5ms/step - loss: 0.4282 - accuracy: 0.8148\n",
            "Epoch 148/200\n",
            "6/6 [==============================] - 0s 4ms/step - loss: 0.3175 - accuracy: 0.7778\n",
            "Epoch 149/200\n",
            "6/6 [==============================] - 0s 4ms/step - loss: 0.3126 - accuracy: 0.8889\n",
            "Epoch 150/200\n",
            "6/6 [==============================] - 0s 3ms/step - loss: 0.3975 - accuracy: 0.8519\n",
            "Epoch 151/200\n",
            "6/6 [==============================] - 0s 4ms/step - loss: 0.3747 - accuracy: 0.8519\n",
            "Epoch 152/200\n",
            "6/6 [==============================] - 0s 4ms/step - loss: 0.2755 - accuracy: 0.8889\n",
            "Epoch 153/200\n",
            "6/6 [==============================] - 0s 3ms/step - loss: 0.2824 - accuracy: 0.8519\n",
            "Epoch 154/200\n",
            "6/6 [==============================] - 0s 3ms/step - loss: 0.3386 - accuracy: 0.8148\n",
            "Epoch 155/200\n",
            "6/6 [==============================] - 0s 3ms/step - loss: 0.2533 - accuracy: 0.8519\n",
            "Epoch 156/200\n",
            "6/6 [==============================] - 0s 3ms/step - loss: 0.2682 - accuracy: 0.9259\n",
            "Epoch 157/200\n",
            "6/6 [==============================] - 0s 5ms/step - loss: 0.3149 - accuracy: 0.8519\n",
            "Epoch 158/200\n",
            "6/6 [==============================] - 0s 4ms/step - loss: 0.3190 - accuracy: 0.8889\n",
            "Epoch 159/200\n",
            "6/6 [==============================] - 0s 5ms/step - loss: 0.2876 - accuracy: 0.8889\n",
            "Epoch 160/200\n",
            "6/6 [==============================] - 0s 5ms/step - loss: 0.3936 - accuracy: 0.8519\n",
            "Epoch 161/200\n",
            "6/6 [==============================] - 0s 6ms/step - loss: 0.2145 - accuracy: 0.8889\n",
            "Epoch 162/200\n",
            "6/6 [==============================] - 0s 3ms/step - loss: 0.3280 - accuracy: 0.8519\n",
            "Epoch 163/200\n",
            "6/6 [==============================] - 0s 3ms/step - loss: 0.2780 - accuracy: 0.8889\n",
            "Epoch 164/200\n",
            "6/6 [==============================] - 0s 4ms/step - loss: 0.3108 - accuracy: 0.8889\n",
            "Epoch 165/200\n",
            "6/6 [==============================] - 0s 4ms/step - loss: 0.2846 - accuracy: 0.8519\n",
            "Epoch 166/200\n",
            "6/6 [==============================] - 0s 4ms/step - loss: 0.2750 - accuracy: 0.8519\n",
            "Epoch 167/200\n",
            "6/6 [==============================] - 0s 4ms/step - loss: 0.2388 - accuracy: 0.9259\n",
            "Epoch 168/200\n",
            "6/6 [==============================] - 0s 10ms/step - loss: 0.3483 - accuracy: 0.8148\n",
            "Epoch 169/200\n",
            "6/6 [==============================] - 0s 4ms/step - loss: 0.3126 - accuracy: 0.8889\n",
            "Epoch 170/200\n",
            "6/6 [==============================] - 0s 6ms/step - loss: 0.2203 - accuracy: 0.9259\n",
            "Epoch 171/200\n",
            "6/6 [==============================] - 0s 4ms/step - loss: 0.3011 - accuracy: 0.8889\n",
            "Epoch 172/200\n",
            "6/6 [==============================] - 0s 12ms/step - loss: 0.3245 - accuracy: 0.8148\n",
            "Epoch 173/200\n",
            "6/6 [==============================] - 0s 8ms/step - loss: 0.2934 - accuracy: 0.8519\n",
            "Epoch 174/200\n",
            "6/6 [==============================] - 0s 9ms/step - loss: 0.3206 - accuracy: 0.7778\n",
            "Epoch 175/200\n",
            "6/6 [==============================] - 0s 6ms/step - loss: 0.3303 - accuracy: 0.8519\n",
            "Epoch 176/200\n",
            "6/6 [==============================] - 0s 5ms/step - loss: 0.2899 - accuracy: 0.9259\n",
            "Epoch 177/200\n",
            "6/6 [==============================] - 0s 3ms/step - loss: 0.2896 - accuracy: 0.8889\n",
            "Epoch 178/200\n",
            "6/6 [==============================] - 0s 3ms/step - loss: 0.2614 - accuracy: 0.8889\n",
            "Epoch 179/200\n",
            "6/6 [==============================] - 0s 3ms/step - loss: 0.2949 - accuracy: 0.9259\n",
            "Epoch 180/200\n",
            "6/6 [==============================] - 0s 3ms/step - loss: 0.2209 - accuracy: 0.9259\n",
            "Epoch 181/200\n",
            "6/6 [==============================] - 0s 3ms/step - loss: 0.2533 - accuracy: 0.8519\n",
            "Epoch 182/200\n",
            "6/6 [==============================] - 0s 3ms/step - loss: 0.3344 - accuracy: 0.8519\n",
            "Epoch 183/200\n",
            "6/6 [==============================] - 0s 4ms/step - loss: 0.2740 - accuracy: 0.8519\n",
            "Epoch 184/200\n",
            "6/6 [==============================] - 0s 3ms/step - loss: 0.2646 - accuracy: 0.9259\n",
            "Epoch 185/200\n",
            "6/6 [==============================] - 0s 3ms/step - loss: 0.3334 - accuracy: 0.9259\n",
            "Epoch 186/200\n",
            "6/6 [==============================] - 0s 3ms/step - loss: 0.2749 - accuracy: 0.8889\n",
            "Epoch 187/200\n",
            "6/6 [==============================] - 0s 3ms/step - loss: 0.3160 - accuracy: 0.8519\n",
            "Epoch 188/200\n",
            "6/6 [==============================] - 0s 3ms/step - loss: 0.3088 - accuracy: 0.8519\n",
            "Epoch 189/200\n",
            "6/6 [==============================] - 0s 3ms/step - loss: 0.3139 - accuracy: 0.8519\n",
            "Epoch 190/200\n",
            "6/6 [==============================] - 0s 3ms/step - loss: 0.2992 - accuracy: 0.7778\n",
            "Epoch 191/200\n",
            "6/6 [==============================] - 0s 3ms/step - loss: 0.3365 - accuracy: 0.8519\n",
            "Epoch 192/200\n",
            "6/6 [==============================] - 0s 3ms/step - loss: 0.3062 - accuracy: 0.8519\n",
            "Epoch 193/200\n",
            "6/6 [==============================] - 0s 3ms/step - loss: 0.2556 - accuracy: 0.9259\n",
            "Epoch 194/200\n",
            "6/6 [==============================] - 0s 3ms/step - loss: 0.2531 - accuracy: 0.8519\n",
            "Epoch 195/200\n",
            "6/6 [==============================] - 0s 3ms/step - loss: 0.2948 - accuracy: 0.8148\n",
            "Epoch 196/200\n",
            "6/6 [==============================] - 0s 3ms/step - loss: 0.2763 - accuracy: 0.8519\n",
            "Epoch 197/200\n",
            "6/6 [==============================] - 0s 3ms/step - loss: 0.2703 - accuracy: 0.8889\n",
            "Epoch 198/200\n",
            "6/6 [==============================] - 0s 3ms/step - loss: 0.2447 - accuracy: 0.8519\n",
            "Epoch 199/200\n",
            "6/6 [==============================] - 0s 3ms/step - loss: 0.3319 - accuracy: 0.8889\n",
            "Epoch 200/200\n",
            "6/6 [==============================] - 0s 3ms/step - loss: 0.2336 - accuracy: 0.9259\n"
          ]
        }
      ],
      "source": [
        "hist = model.fit(np.array(train_x), np.array(train_y), epochs=200, batch_size=5, verbose=1)\n",
        "model.save('chatbot_model.h5', hist)\n"
      ]
    },
    {
      "cell_type": "markdown",
      "metadata": {
        "id": "np9uxQn976rh"
      },
      "source": [
        "# chat"
      ]
    },
    {
      "cell_type": "code",
      "execution_count": 55,
      "metadata": {
        "id": "TLr-E8IF76cJ"
      },
      "outputs": [],
      "source": [
        "from tensorflow.keras.models import load_model"
      ]
    },
    {
      "cell_type": "code",
      "execution_count": 56,
      "metadata": {
        "id": "MFC5iFOJ71hz"
      },
      "outputs": [],
      "source": [
        "words = pickle.load(open('words.pkl', 'rb'))\n",
        "classes = pickle.load(open('classes.pkl', 'rb'))\n",
        "model = load_model('chatbot_model.h5')"
      ]
    },
    {
      "cell_type": "code",
      "execution_count": 57,
      "metadata": {
        "id": "HnLYuZLe7-TR"
      },
      "outputs": [],
      "source": [
        "def clean_up_sentence(sentence):\n",
        "    sentence_words = nltk.word_tokenize(sentence)\n",
        "    sentence_words = [lemmatizer.lemmatize(word.lower()) for word in sentence_words]\n",
        "    return sentence_words"
      ]
    },
    {
      "cell_type": "code",
      "execution_count": 58,
      "metadata": {
        "id": "aKLNu4_w8ADy"
      },
      "outputs": [],
      "source": [
        "def bag_of_words(sentence, words, show_details=True):\n",
        "    sentence_words = clean_up_sentence(sentence)\n",
        "    bag = [0] * len(words)\n",
        "    for s in sentence_words:\n",
        "        for i, word in enumerate(words):\n",
        "            if word == s:\n",
        "                bag[i] = 1\n",
        "                if show_details:\n",
        "                    print(\"found in bag: %s\" % word)\n",
        "    return(np.array(bag))"
      ]
    },
    {
      "cell_type": "code",
      "execution_count": 68,
      "metadata": {
        "id": "SdT6R6va8ENe"
      },
      "outputs": [],
      "source": [
        "def predict_class(sentence, model):\n",
        "    p = bag_of_words(sentence, words, show_details=False)\n",
        "    res = model.predict(np.array([p]))[0]\n",
        "    ERROR_THRESHOLD = 0.25\n",
        "    results = [[i,r] for i,r in enumerate(res) if r>ERROR_THRESHOLD]\n",
        "    results.sort(key=lambda x: x[1], reverse=True)\n",
        "    return_list = []\n",
        "    for r in results:\n",
        "        return_list.append({\"intent\": classes[r[0]], \"probability\": str(r[1])})\n",
        "    return return_list"
      ]
    },
    {
      "cell_type": "code",
      "execution_count": 69,
      "metadata": {
        "colab": {
          "base_uri": "https://localhost:8080/"
        },
        "id": "3c8IPMJc8GBO",
        "outputId": "8a5b9f4d-2452-4bb4-b762-7af59ad921c1"
      },
      "outputs": [
        {
          "data": {
            "text/plain": [
              "[{'intent': 'hours', 'probability': '0.999506'}]"
            ]
          },
          "execution_count": 69,
          "metadata": {},
          "output_type": "execute_result"
        }
      ],
      "source": [
        "predict_class(\"when are you open?\", model)"
      ]
    },
    {
      "cell_type": "code",
      "execution_count": 60,
      "metadata": {
        "id": "ElyujIa08RUD"
      },
      "outputs": [],
      "source": []
    }
  ],
  "metadata": {
    "colab": {
      "authorship_tag": "ABX9TyOpjgTqOPeKCas2E6KUbioJ",
      "collapsed_sections": [],
      "include_colab_link": true,
      "provenance": []
    },
    "kernelspec": {
      "display_name": "Python 3",
      "name": "python3"
    },
    "language_info": {
      "name": "python"
    }
  },
  "nbformat": 4,
  "nbformat_minor": 0
}
