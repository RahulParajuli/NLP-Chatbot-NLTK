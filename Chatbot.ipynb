{
  "nbformat": 4,
  "nbformat_minor": 0,
  "metadata": {
    "colab": {
      "provenance": [],
      "collapsed_sections": [],
      "authorship_tag": "ABX9TyPyXbXd/t4ZMC2OJiV6NXB7",
      "include_colab_link": true
    },
    "kernelspec": {
      "name": "python3",
      "display_name": "Python 3"
    },
    "language_info": {
      "name": "python"
    }
  },
  "cells": [
    {
      "cell_type": "markdown",
      "metadata": {
        "id": "view-in-github",
        "colab_type": "text"
      },
      "source": [
        "<a href=\"https://colab.research.google.com/github/RahulParajuli/NLP-Chatbot-NLTK/blob/main/Chatbot.ipynb\" target=\"_parent\"><img src=\"https://colab.research.google.com/assets/colab-badge.svg\" alt=\"Open In Colab\"/></a>"
      ]
    },
    {
      "cell_type": "code",
      "execution_count": null,
      "metadata": {
        "id": "BdZrA_CJq-1f",
        "colab": {
          "base_uri": "https://localhost:8080/"
        },
        "outputId": "6ce4cfe7-9158-4936-c0bd-a897676ce07d"
      },
      "outputs": [
        {
          "output_type": "stream",
          "name": "stderr",
          "text": [
            "[nltk_data] Downloading package punkt to /root/nltk_data...\n",
            "[nltk_data]   Unzipping tokenizers/punkt.zip.\n",
            "[nltk_data] Downloading package wordnet to /root/nltk_data...\n",
            "[nltk_data] Downloading package omw-1.4 to /root/nltk_data...\n"
          ]
        },
        {
          "output_type": "execute_result",
          "data": {
            "text/plain": [
              "True"
            ]
          },
          "metadata": {},
          "execution_count": 7
        }
      ],
      "source": [
        "import random\n",
        "import json\n",
        "import pickle\n",
        "import numpy as np\n",
        "import nltk\n",
        "nltk.download('punkt')\n",
        "nltk.download('wordnet')\n",
        "nltk.download(\"omw-1.4\")"
      ]
    },
    {
      "cell_type": "code",
      "source": [
        "from nltk.stem import WordNetLemmatizer\n",
        "from tensorflow.keras.models import Sequential\n",
        "from tensorflow.keras.layers import Dense, Activation, Dropout\n",
        "from tensorflow.keras.optimizers import SGD"
      ],
      "metadata": {
        "id": "igb9_kHc571f"
      },
      "execution_count": null,
      "outputs": []
    },
    {
      "cell_type": "code",
      "source": [
        "lemmatizer = WordNetLemmatizer()\n",
        "intents = json.loads(open('/content/intents.json').read())"
      ],
      "metadata": {
        "id": "v0jhkwq2598C"
      },
      "execution_count": null,
      "outputs": []
    },
    {
      "cell_type": "code",
      "source": [
        "words = []\n",
        "classes = []\n",
        "documents = []\n",
        "ignore_letters = ['?', '!', '.', ',']"
      ],
      "metadata": {
        "id": "edMx_Lra6XuN"
      },
      "execution_count": null,
      "outputs": []
    },
    {
      "cell_type": "code",
      "source": [
        "for intent in intents['intents']:\n",
        "    for pattern in intent['patterns']:\n",
        "        word_list = nltk.word_tokenize(pattern)\n",
        "        words.extend(word_list)\n",
        "        documents.append((word_list, intent['tag']))\n",
        "        if intent['tag'] not in classes:\n",
        "            classes.append(intent['tag'])"
      ],
      "metadata": {
        "id": "f8-XYM0-6ZHB"
      },
      "execution_count": null,
      "outputs": []
    },
    {
      "cell_type": "code",
      "source": [
        "words = [lemmatizer.lemmatize(word) for word in words if word not in ignore_letters]\n",
        "words = sorted(set(words)) #to reduce duplicate elements\n"
      ],
      "metadata": {
        "id": "dhEdLvUf7QEt"
      },
      "execution_count": null,
      "outputs": []
    },
    {
      "cell_type": "code",
      "source": [
        "classes = sorted(set(classes))"
      ],
      "metadata": {
        "id": "4AlQpZz37aua"
      },
      "execution_count": null,
      "outputs": []
    },
    {
      "cell_type": "code",
      "source": [
        "print(words)"
      ],
      "metadata": {
        "colab": {
          "base_uri": "https://localhost:8080/"
        },
        "id": "kVr0VsYr7cP1",
        "outputId": "ebf822b4-0ca5-4aa7-f06f-366ec15221f8"
      },
      "execution_count": null,
      "outputs": [
        {
          "output_type": "stream",
          "name": "stdout",
          "text": [
            "[\"'s\", 'Bye', 'Do', 'Good', 'Goodbye', 'Hello', 'Hey', 'Hi', 'How', 'Is', 'Mastercard', 'See', 'Thank', 'Thanks', 'That', 'VISA', 'What', 'When', 'Where', 'a', 'accept', 'address', 'anyone', 'are', 'card', 'cost', 'credit', 'day', 'doe', 'have', 'helpful', 'hour', 'it', 'later', 'located', 'location', 'moped', 'motorcycle', 'much', 'open', 'physical', 'rent', 'scooter', 'take', 'there', 'to', 'you', 'your']\n"
          ]
        }
      ]
    },
    {
      "cell_type": "code",
      "source": [
        "print(classes)"
      ],
      "metadata": {
        "colab": {
          "base_uri": "https://localhost:8080/"
        },
        "id": "5QAV6fIK7ddd",
        "outputId": "9cef0d04-6f9a-4eb6-ec4e-5a0e78041bca"
      },
      "execution_count": null,
      "outputs": [
        {
          "output_type": "stream",
          "name": "stdout",
          "text": [
            "['goodbye', 'greeting', 'hours', 'location', 'mopeds', 'payments', 'rental', 'thanks']\n"
          ]
        }
      ]
    },
    {
      "cell_type": "code",
      "source": [
        "pickle.dump(words, open('/content/words.pkl', 'wb'))\n",
        "pickle.dump(classes, open('/content/classes.pkl', 'wb'))"
      ],
      "metadata": {
        "id": "ZxyP51aN7fHq"
      },
      "execution_count": null,
      "outputs": []
    },
    {
      "cell_type": "code",
      "source": [
        "training = []\n",
        "output_empty = [0] * len(classes)"
      ],
      "metadata": {
        "id": "zdvvAKLD7gsU"
      },
      "execution_count": null,
      "outputs": []
    },
    {
      "cell_type": "code",
      "source": [
        "for document in documents:\n",
        "    bag = []\n",
        "    word_patterns = document[0]\n",
        "    word_patterns = [lemmatizer.lemmatize(word.lower()) for word in word_patterns]\n",
        "    for word in words:\n",
        "        bag.append(1) if word in word_patterns else bag.append(0)\n",
        "\n",
        "    output_row = list(output_empty)\n",
        "    output_row[classes.index(document[1])] = 1\n",
        "\n",
        "    training.append([bag, output_row])"
      ],
      "metadata": {
        "id": "luO3OVDm7iiT"
      },
      "execution_count": null,
      "outputs": []
    },
    {
      "cell_type": "code",
      "source": [
        "random.shuffle(training)\n",
        "training = np.array(training)\n"
      ],
      "metadata": {
        "colab": {
          "base_uri": "https://localhost:8080/"
        },
        "id": "NGJDMbOO7tsz",
        "outputId": "de168a0b-103f-48ad-d259-b41fb8391a7f"
      },
      "execution_count": null,
      "outputs": [
        {
          "output_type": "stream",
          "name": "stderr",
          "text": [
            "/usr/local/lib/python3.7/dist-packages/ipykernel_launcher.py:2: VisibleDeprecationWarning: Creating an ndarray from ragged nested sequences (which is a list-or-tuple of lists-or-tuples-or ndarrays with different lengths or shapes) is deprecated. If you meant to do this, you must specify 'dtype=object' when creating the ndarray.\n",
            "  \n"
          ]
        }
      ]
    },
    {
      "cell_type": "code",
      "source": [
        "train_x = list(training[:, 0])\n",
        "train_y = list(training[:, 1])"
      ],
      "metadata": {
        "id": "dtoyPtW67vVl"
      },
      "execution_count": null,
      "outputs": []
    },
    {
      "cell_type": "code",
      "source": [
        "model = Sequential()\n",
        "model.add(Dense(128, input_shape=(len(train_x[0]),), activation='relu'))\n",
        "model.add(Dropout(0.5))\n",
        "model.add(Dense(64, activation='relu'))\n",
        "model.add(Dropout(0.5))\n",
        "model.add(Dense(len(train_y[0]), activation='softmax'))"
      ],
      "metadata": {
        "id": "bLhK1OE57w5-"
      },
      "execution_count": null,
      "outputs": []
    },
    {
      "cell_type": "code",
      "source": [
        "sgd = SGD(lr=0.01, decay=1e-6, momentum=0.9, nesterov=True)\n",
        "model.compile(loss='categorical_crossentropy', optimizer=sgd, metrics=['accuracy'])\n"
      ],
      "metadata": {
        "colab": {
          "base_uri": "https://localhost:8080/"
        },
        "id": "MOVKn5XI7yu5",
        "outputId": "df36281d-651b-4e48-ed94-5209d66a3420"
      },
      "execution_count": null,
      "outputs": [
        {
          "output_type": "stream",
          "name": "stderr",
          "text": [
            "/usr/local/lib/python3.7/dist-packages/keras/optimizer_v2/gradient_descent.py:102: UserWarning: The `lr` argument is deprecated, use `learning_rate` instead.\n",
            "  super(SGD, self).__init__(name, **kwargs)\n"
          ]
        }
      ]
    },
    {
      "cell_type": "code",
      "source": [
        "hist = model.fit(np.array(train_x), np.array(train_y), epochs=200, batch_size=5, verbose=1)\n",
        "model.save('chatbot_model.h5', hist)\n"
      ],
      "metadata": {
        "colab": {
          "base_uri": "https://localhost:8080/"
        },
        "id": "LO7iqKE270Ng",
        "outputId": "30990af9-ad7e-406c-9e7f-d3ee279894bf"
      },
      "execution_count": null,
      "outputs": [
        {
          "output_type": "stream",
          "name": "stdout",
          "text": [
            "Epoch 1/200\n",
            "6/6 [==============================] - 1s 5ms/step - loss: 2.0983 - accuracy: 0.1481\n",
            "Epoch 2/200\n",
            "6/6 [==============================] - 0s 3ms/step - loss: 2.2005 - accuracy: 0.2222\n",
            "Epoch 3/200\n",
            "6/6 [==============================] - 0s 3ms/step - loss: 2.0034 - accuracy: 0.2593\n",
            "Epoch 4/200\n",
            "6/6 [==============================] - 0s 3ms/step - loss: 1.9681 - accuracy: 0.2963\n",
            "Epoch 5/200\n",
            "6/6 [==============================] - 0s 3ms/step - loss: 1.9951 - accuracy: 0.3333\n",
            "Epoch 6/200\n",
            "6/6 [==============================] - 0s 3ms/step - loss: 1.8291 - accuracy: 0.3704\n",
            "Epoch 7/200\n",
            "6/6 [==============================] - 0s 2ms/step - loss: 1.7829 - accuracy: 0.4444\n",
            "Epoch 8/200\n",
            "6/6 [==============================] - 0s 3ms/step - loss: 1.7834 - accuracy: 0.4074\n",
            "Epoch 9/200\n",
            "6/6 [==============================] - 0s 3ms/step - loss: 1.6337 - accuracy: 0.4815\n",
            "Epoch 10/200\n",
            "6/6 [==============================] - 0s 3ms/step - loss: 1.6739 - accuracy: 0.4444\n",
            "Epoch 11/200\n",
            "6/6 [==============================] - 0s 3ms/step - loss: 1.5961 - accuracy: 0.5185\n",
            "Epoch 12/200\n",
            "6/6 [==============================] - 0s 3ms/step - loss: 1.4392 - accuracy: 0.5556\n",
            "Epoch 13/200\n",
            "6/6 [==============================] - 0s 4ms/step - loss: 1.5374 - accuracy: 0.5556\n",
            "Epoch 14/200\n",
            "6/6 [==============================] - 0s 3ms/step - loss: 1.3871 - accuracy: 0.5556\n",
            "Epoch 15/200\n",
            "6/6 [==============================] - 0s 3ms/step - loss: 1.5719 - accuracy: 0.4444\n",
            "Epoch 16/200\n",
            "6/6 [==============================] - 0s 3ms/step - loss: 1.4589 - accuracy: 0.5556\n",
            "Epoch 17/200\n",
            "6/6 [==============================] - 0s 2ms/step - loss: 1.3349 - accuracy: 0.5926\n",
            "Epoch 18/200\n",
            "6/6 [==============================] - 0s 2ms/step - loss: 1.2080 - accuracy: 0.6667\n",
            "Epoch 19/200\n",
            "6/6 [==============================] - 0s 2ms/step - loss: 1.3674 - accuracy: 0.5185\n",
            "Epoch 20/200\n",
            "6/6 [==============================] - 0s 2ms/step - loss: 1.2418 - accuracy: 0.6296\n",
            "Epoch 21/200\n",
            "6/6 [==============================] - 0s 2ms/step - loss: 1.0849 - accuracy: 0.7407\n",
            "Epoch 22/200\n",
            "6/6 [==============================] - 0s 2ms/step - loss: 1.0585 - accuracy: 0.7037\n",
            "Epoch 23/200\n",
            "6/6 [==============================] - 0s 3ms/step - loss: 0.9138 - accuracy: 0.7407\n",
            "Epoch 24/200\n",
            "6/6 [==============================] - 0s 2ms/step - loss: 0.9570 - accuracy: 0.7778\n",
            "Epoch 25/200\n",
            "6/6 [==============================] - 0s 3ms/step - loss: 1.0293 - accuracy: 0.7037\n",
            "Epoch 26/200\n",
            "6/6 [==============================] - 0s 2ms/step - loss: 0.8670 - accuracy: 0.8148\n",
            "Epoch 27/200\n",
            "6/6 [==============================] - 0s 2ms/step - loss: 0.8947 - accuracy: 0.7407\n",
            "Epoch 28/200\n",
            "6/6 [==============================] - 0s 2ms/step - loss: 0.7118 - accuracy: 0.8519\n",
            "Epoch 29/200\n",
            "6/6 [==============================] - 0s 3ms/step - loss: 0.6873 - accuracy: 0.8148\n",
            "Epoch 30/200\n",
            "6/6 [==============================] - 0s 3ms/step - loss: 0.8423 - accuracy: 0.7037\n",
            "Epoch 31/200\n",
            "6/6 [==============================] - 0s 2ms/step - loss: 0.7713 - accuracy: 0.7407\n",
            "Epoch 32/200\n",
            "6/6 [==============================] - 0s 2ms/step - loss: 0.8305 - accuracy: 0.6667\n",
            "Epoch 33/200\n",
            "6/6 [==============================] - 0s 2ms/step - loss: 0.7258 - accuracy: 0.8519\n",
            "Epoch 34/200\n",
            "6/6 [==============================] - 0s 3ms/step - loss: 0.7436 - accuracy: 0.7037\n",
            "Epoch 35/200\n",
            "6/6 [==============================] - 0s 3ms/step - loss: 0.6312 - accuracy: 0.8148\n",
            "Epoch 36/200\n",
            "6/6 [==============================] - 0s 4ms/step - loss: 0.6789 - accuracy: 0.7407\n",
            "Epoch 37/200\n",
            "6/6 [==============================] - 0s 3ms/step - loss: 0.7518 - accuracy: 0.7778\n",
            "Epoch 38/200\n",
            "6/6 [==============================] - 0s 3ms/step - loss: 0.6088 - accuracy: 0.8519\n",
            "Epoch 39/200\n",
            "6/6 [==============================] - 0s 3ms/step - loss: 0.6027 - accuracy: 0.8519\n",
            "Epoch 40/200\n",
            "6/6 [==============================] - 0s 3ms/step - loss: 0.6527 - accuracy: 0.8148\n",
            "Epoch 41/200\n",
            "6/6 [==============================] - 0s 3ms/step - loss: 0.5924 - accuracy: 0.7778\n",
            "Epoch 42/200\n",
            "6/6 [==============================] - 0s 3ms/step - loss: 0.5839 - accuracy: 0.7407\n",
            "Epoch 43/200\n",
            "6/6 [==============================] - 0s 2ms/step - loss: 0.5877 - accuracy: 0.8148\n",
            "Epoch 44/200\n",
            "6/6 [==============================] - 0s 3ms/step - loss: 0.6298 - accuracy: 0.7778\n",
            "Epoch 45/200\n",
            "6/6 [==============================] - 0s 3ms/step - loss: 0.6505 - accuracy: 0.6667\n",
            "Epoch 46/200\n",
            "6/6 [==============================] - 0s 3ms/step - loss: 0.4892 - accuracy: 0.8519\n",
            "Epoch 47/200\n",
            "6/6 [==============================] - 0s 3ms/step - loss: 0.6089 - accuracy: 0.7778\n",
            "Epoch 48/200\n",
            "6/6 [==============================] - 0s 2ms/step - loss: 0.4795 - accuracy: 0.8148\n",
            "Epoch 49/200\n",
            "6/6 [==============================] - 0s 2ms/step - loss: 0.5301 - accuracy: 0.7778\n",
            "Epoch 50/200\n",
            "6/6 [==============================] - 0s 3ms/step - loss: 0.4737 - accuracy: 0.8148\n",
            "Epoch 51/200\n",
            "6/6 [==============================] - 0s 3ms/step - loss: 0.5552 - accuracy: 0.7778\n",
            "Epoch 52/200\n",
            "6/6 [==============================] - 0s 3ms/step - loss: 0.5034 - accuracy: 0.8148\n",
            "Epoch 53/200\n",
            "6/6 [==============================] - 0s 2ms/step - loss: 0.3868 - accuracy: 0.8889\n",
            "Epoch 54/200\n",
            "6/6 [==============================] - 0s 3ms/step - loss: 0.5631 - accuracy: 0.7407\n",
            "Epoch 55/200\n",
            "6/6 [==============================] - 0s 3ms/step - loss: 0.4103 - accuracy: 0.8889\n",
            "Epoch 56/200\n",
            "6/6 [==============================] - 0s 3ms/step - loss: 0.5087 - accuracy: 0.7778\n",
            "Epoch 57/200\n",
            "6/6 [==============================] - 0s 3ms/step - loss: 0.4383 - accuracy: 0.8889\n",
            "Epoch 58/200\n",
            "6/6 [==============================] - 0s 3ms/step - loss: 0.4558 - accuracy: 0.8889\n",
            "Epoch 59/200\n",
            "6/6 [==============================] - 0s 3ms/step - loss: 0.6336 - accuracy: 0.8148\n",
            "Epoch 60/200\n",
            "6/6 [==============================] - 0s 3ms/step - loss: 0.4340 - accuracy: 0.8519\n",
            "Epoch 61/200\n",
            "6/6 [==============================] - 0s 3ms/step - loss: 0.3922 - accuracy: 0.9259\n",
            "Epoch 62/200\n",
            "6/6 [==============================] - 0s 2ms/step - loss: 0.4010 - accuracy: 0.8519\n",
            "Epoch 63/200\n",
            "6/6 [==============================] - 0s 3ms/step - loss: 0.5064 - accuracy: 0.7778\n",
            "Epoch 64/200\n",
            "6/6 [==============================] - 0s 3ms/step - loss: 0.3931 - accuracy: 0.8519\n",
            "Epoch 65/200\n",
            "6/6 [==============================] - 0s 2ms/step - loss: 0.5343 - accuracy: 0.7778\n",
            "Epoch 66/200\n",
            "6/6 [==============================] - 0s 2ms/step - loss: 0.4209 - accuracy: 0.8889\n",
            "Epoch 67/200\n",
            "6/6 [==============================] - 0s 3ms/step - loss: 0.4137 - accuracy: 0.8148\n",
            "Epoch 68/200\n",
            "6/6 [==============================] - 0s 2ms/step - loss: 0.5190 - accuracy: 0.8889\n",
            "Epoch 69/200\n",
            "6/6 [==============================] - 0s 3ms/step - loss: 0.3298 - accuracy: 0.9259\n",
            "Epoch 70/200\n",
            "6/6 [==============================] - 0s 3ms/step - loss: 0.3587 - accuracy: 0.8519\n",
            "Epoch 71/200\n",
            "6/6 [==============================] - 0s 2ms/step - loss: 0.4725 - accuracy: 0.8519\n",
            "Epoch 72/200\n",
            "6/6 [==============================] - 0s 3ms/step - loss: 0.4401 - accuracy: 0.8889\n",
            "Epoch 73/200\n",
            "6/6 [==============================] - 0s 3ms/step - loss: 0.3348 - accuracy: 0.8889\n",
            "Epoch 74/200\n",
            "6/6 [==============================] - 0s 2ms/step - loss: 0.4298 - accuracy: 0.8519\n",
            "Epoch 75/200\n",
            "6/6 [==============================] - 0s 2ms/step - loss: 0.3909 - accuracy: 0.8519\n",
            "Epoch 76/200\n",
            "6/6 [==============================] - 0s 2ms/step - loss: 0.4451 - accuracy: 0.8148\n",
            "Epoch 77/200\n",
            "6/6 [==============================] - 0s 2ms/step - loss: 0.3687 - accuracy: 0.8519\n",
            "Epoch 78/200\n",
            "6/6 [==============================] - 0s 3ms/step - loss: 0.4278 - accuracy: 0.8148\n",
            "Epoch 79/200\n",
            "6/6 [==============================] - 0s 3ms/step - loss: 0.3985 - accuracy: 0.8519\n",
            "Epoch 80/200\n",
            "6/6 [==============================] - 0s 3ms/step - loss: 0.4188 - accuracy: 0.8519\n",
            "Epoch 81/200\n",
            "6/6 [==============================] - 0s 3ms/step - loss: 0.4173 - accuracy: 0.8889\n",
            "Epoch 82/200\n",
            "6/6 [==============================] - 0s 3ms/step - loss: 0.2956 - accuracy: 0.8889\n",
            "Epoch 83/200\n",
            "6/6 [==============================] - 0s 3ms/step - loss: 0.3776 - accuracy: 0.8519\n",
            "Epoch 84/200\n",
            "6/6 [==============================] - 0s 3ms/step - loss: 0.4247 - accuracy: 0.8148\n",
            "Epoch 85/200\n",
            "6/6 [==============================] - 0s 2ms/step - loss: 0.4095 - accuracy: 0.8519\n",
            "Epoch 86/200\n",
            "6/6 [==============================] - 0s 5ms/step - loss: 0.4791 - accuracy: 0.8148\n",
            "Epoch 87/200\n",
            "6/6 [==============================] - 0s 12ms/step - loss: 0.3755 - accuracy: 0.8148\n",
            "Epoch 88/200\n",
            "6/6 [==============================] - 0s 4ms/step - loss: 0.3521 - accuracy: 0.8148\n",
            "Epoch 89/200\n",
            "6/6 [==============================] - 0s 7ms/step - loss: 0.2721 - accuracy: 0.8889\n",
            "Epoch 90/200\n",
            "6/6 [==============================] - 0s 3ms/step - loss: 0.3350 - accuracy: 0.8889\n",
            "Epoch 91/200\n",
            "6/6 [==============================] - 0s 4ms/step - loss: 0.3983 - accuracy: 0.8519\n",
            "Epoch 92/200\n",
            "6/6 [==============================] - 0s 4ms/step - loss: 0.3353 - accuracy: 0.8519\n",
            "Epoch 93/200\n",
            "6/6 [==============================] - 0s 3ms/step - loss: 0.4056 - accuracy: 0.8519\n",
            "Epoch 94/200\n",
            "6/6 [==============================] - 0s 4ms/step - loss: 0.2907 - accuracy: 0.9259\n",
            "Epoch 95/200\n",
            "6/6 [==============================] - 0s 6ms/step - loss: 0.3286 - accuracy: 0.8889\n",
            "Epoch 96/200\n",
            "6/6 [==============================] - 0s 5ms/step - loss: 0.3968 - accuracy: 0.8889\n",
            "Epoch 97/200\n",
            "6/6 [==============================] - 0s 3ms/step - loss: 0.4254 - accuracy: 0.7778\n",
            "Epoch 98/200\n",
            "6/6 [==============================] - 0s 3ms/step - loss: 0.2816 - accuracy: 0.8889\n",
            "Epoch 99/200\n",
            "6/6 [==============================] - 0s 5ms/step - loss: 0.3631 - accuracy: 0.8148\n",
            "Epoch 100/200\n",
            "6/6 [==============================] - 0s 3ms/step - loss: 0.3790 - accuracy: 0.8519\n",
            "Epoch 101/200\n",
            "6/6 [==============================] - 0s 3ms/step - loss: 0.3222 - accuracy: 0.9259\n",
            "Epoch 102/200\n",
            "6/6 [==============================] - 0s 8ms/step - loss: 0.4576 - accuracy: 0.8519\n",
            "Epoch 103/200\n",
            "6/6 [==============================] - 0s 4ms/step - loss: 0.3213 - accuracy: 0.8889\n",
            "Epoch 104/200\n",
            "6/6 [==============================] - 0s 3ms/step - loss: 0.3713 - accuracy: 0.8148\n",
            "Epoch 105/200\n",
            "6/6 [==============================] - 0s 4ms/step - loss: 0.3772 - accuracy: 0.8889\n",
            "Epoch 106/200\n",
            "6/6 [==============================] - 0s 10ms/step - loss: 0.3540 - accuracy: 0.8889\n",
            "Epoch 107/200\n",
            "6/6 [==============================] - 0s 6ms/step - loss: 0.3943 - accuracy: 0.8889\n",
            "Epoch 108/200\n",
            "6/6 [==============================] - 0s 4ms/step - loss: 0.3591 - accuracy: 0.8519\n",
            "Epoch 109/200\n",
            "6/6 [==============================] - 0s 4ms/step - loss: 0.2554 - accuracy: 0.9630\n",
            "Epoch 110/200\n",
            "6/6 [==============================] - 0s 5ms/step - loss: 0.4520 - accuracy: 0.8148\n",
            "Epoch 111/200\n",
            "6/6 [==============================] - 0s 5ms/step - loss: 0.2895 - accuracy: 0.8889\n",
            "Epoch 112/200\n",
            "6/6 [==============================] - 0s 3ms/step - loss: 0.4148 - accuracy: 0.8519\n",
            "Epoch 113/200\n",
            "6/6 [==============================] - 0s 3ms/step - loss: 0.3747 - accuracy: 0.7778\n",
            "Epoch 114/200\n",
            "6/6 [==============================] - 0s 6ms/step - loss: 0.3264 - accuracy: 0.8519\n",
            "Epoch 115/200\n",
            "6/6 [==============================] - 0s 6ms/step - loss: 0.2603 - accuracy: 0.9259\n",
            "Epoch 116/200\n",
            "6/6 [==============================] - 0s 10ms/step - loss: 0.3716 - accuracy: 0.8148\n",
            "Epoch 117/200\n",
            "6/6 [==============================] - 0s 3ms/step - loss: 0.3606 - accuracy: 0.8519\n",
            "Epoch 118/200\n",
            "6/6 [==============================] - 0s 3ms/step - loss: 0.2853 - accuracy: 0.9259\n",
            "Epoch 119/200\n",
            "6/6 [==============================] - 0s 6ms/step - loss: 0.3261 - accuracy: 0.8519\n",
            "Epoch 120/200\n",
            "6/6 [==============================] - 0s 5ms/step - loss: 0.2958 - accuracy: 0.9259\n",
            "Epoch 121/200\n",
            "6/6 [==============================] - 0s 7ms/step - loss: 0.3658 - accuracy: 0.8889\n",
            "Epoch 122/200\n",
            "6/6 [==============================] - 0s 4ms/step - loss: 0.4718 - accuracy: 0.7778\n",
            "Epoch 123/200\n",
            "6/6 [==============================] - 0s 5ms/step - loss: 0.2956 - accuracy: 0.8519\n",
            "Epoch 124/200\n",
            "6/6 [==============================] - 0s 10ms/step - loss: 0.3254 - accuracy: 0.8519\n",
            "Epoch 125/200\n",
            "6/6 [==============================] - 0s 12ms/step - loss: 0.3104 - accuracy: 0.8519\n",
            "Epoch 126/200\n",
            "6/6 [==============================] - 0s 11ms/step - loss: 0.3300 - accuracy: 0.8148\n",
            "Epoch 127/200\n",
            "6/6 [==============================] - 0s 6ms/step - loss: 0.2853 - accuracy: 0.8889\n",
            "Epoch 128/200\n",
            "6/6 [==============================] - 0s 15ms/step - loss: 0.3877 - accuracy: 0.8148\n",
            "Epoch 129/200\n",
            "6/6 [==============================] - 0s 7ms/step - loss: 0.2919 - accuracy: 0.8889\n",
            "Epoch 130/200\n",
            "6/6 [==============================] - 0s 7ms/step - loss: 0.3149 - accuracy: 0.9259\n",
            "Epoch 131/200\n",
            "6/6 [==============================] - 0s 9ms/step - loss: 0.2896 - accuracy: 0.8519\n",
            "Epoch 132/200\n",
            "6/6 [==============================] - 0s 9ms/step - loss: 0.2696 - accuracy: 0.8889\n",
            "Epoch 133/200\n",
            "6/6 [==============================] - 0s 8ms/step - loss: 0.2491 - accuracy: 0.8889\n",
            "Epoch 134/200\n",
            "6/6 [==============================] - 0s 7ms/step - loss: 0.3391 - accuracy: 0.8889\n",
            "Epoch 135/200\n",
            "6/6 [==============================] - 0s 6ms/step - loss: 0.3802 - accuracy: 0.7778\n",
            "Epoch 136/200\n",
            "6/6 [==============================] - 0s 8ms/step - loss: 0.2547 - accuracy: 0.8889\n",
            "Epoch 137/200\n",
            "6/6 [==============================] - 0s 3ms/step - loss: 0.3209 - accuracy: 0.9259\n",
            "Epoch 138/200\n",
            "6/6 [==============================] - 0s 2ms/step - loss: 0.3952 - accuracy: 0.7037\n",
            "Epoch 139/200\n",
            "6/6 [==============================] - 0s 3ms/step - loss: 0.3080 - accuracy: 0.8519\n",
            "Epoch 140/200\n",
            "6/6 [==============================] - 0s 3ms/step - loss: 0.2874 - accuracy: 0.9259\n",
            "Epoch 141/200\n",
            "6/6 [==============================] - 0s 3ms/step - loss: 0.2806 - accuracy: 0.9259\n",
            "Epoch 142/200\n",
            "6/6 [==============================] - 0s 3ms/step - loss: 0.3646 - accuracy: 0.8519\n",
            "Epoch 143/200\n",
            "6/6 [==============================] - 0s 3ms/step - loss: 0.3121 - accuracy: 0.8519\n",
            "Epoch 144/200\n",
            "6/6 [==============================] - 0s 3ms/step - loss: 0.3297 - accuracy: 0.8519\n",
            "Epoch 145/200\n",
            "6/6 [==============================] - 0s 3ms/step - loss: 0.3401 - accuracy: 0.8148\n",
            "Epoch 146/200\n",
            "6/6 [==============================] - 0s 3ms/step - loss: 0.2431 - accuracy: 0.9630\n",
            "Epoch 147/200\n",
            "6/6 [==============================] - 0s 3ms/step - loss: 0.2991 - accuracy: 0.8519\n",
            "Epoch 148/200\n",
            "6/6 [==============================] - 0s 3ms/step - loss: 0.4024 - accuracy: 0.8148\n",
            "Epoch 149/200\n",
            "6/6 [==============================] - 0s 2ms/step - loss: 0.3506 - accuracy: 0.8889\n",
            "Epoch 150/200\n",
            "6/6 [==============================] - 0s 3ms/step - loss: 0.2977 - accuracy: 0.8889\n",
            "Epoch 151/200\n",
            "6/6 [==============================] - 0s 3ms/step - loss: 0.3500 - accuracy: 0.8519\n",
            "Epoch 152/200\n",
            "6/6 [==============================] - 0s 3ms/step - loss: 0.2857 - accuracy: 0.8889\n",
            "Epoch 153/200\n",
            "6/6 [==============================] - 0s 3ms/step - loss: 0.3631 - accuracy: 0.8889\n",
            "Epoch 154/200\n",
            "6/6 [==============================] - 0s 3ms/step - loss: 0.2980 - accuracy: 0.8889\n",
            "Epoch 155/200\n",
            "6/6 [==============================] - 0s 3ms/step - loss: 0.2655 - accuracy: 0.8519\n",
            "Epoch 156/200\n",
            "6/6 [==============================] - 0s 3ms/step - loss: 0.2670 - accuracy: 0.8889\n",
            "Epoch 157/200\n",
            "6/6 [==============================] - 0s 3ms/step - loss: 0.3130 - accuracy: 0.8148\n",
            "Epoch 158/200\n",
            "6/6 [==============================] - 0s 4ms/step - loss: 0.3311 - accuracy: 0.8889\n",
            "Epoch 159/200\n",
            "6/6 [==============================] - 0s 3ms/step - loss: 0.4191 - accuracy: 0.8148\n",
            "Epoch 160/200\n",
            "6/6 [==============================] - 0s 3ms/step - loss: 0.3280 - accuracy: 0.8148\n",
            "Epoch 161/200\n",
            "6/6 [==============================] - 0s 3ms/step - loss: 0.2216 - accuracy: 0.9630\n",
            "Epoch 162/200\n",
            "6/6 [==============================] - 0s 3ms/step - loss: 0.3615 - accuracy: 0.8889\n",
            "Epoch 163/200\n",
            "6/6 [==============================] - 0s 3ms/step - loss: 0.2507 - accuracy: 0.9259\n",
            "Epoch 164/200\n",
            "6/6 [==============================] - 0s 3ms/step - loss: 0.3061 - accuracy: 0.8148\n",
            "Epoch 165/200\n",
            "6/6 [==============================] - 0s 3ms/step - loss: 0.3943 - accuracy: 0.8148\n",
            "Epoch 166/200\n",
            "6/6 [==============================] - 0s 3ms/step - loss: 0.2486 - accuracy: 0.9630\n",
            "Epoch 167/200\n",
            "6/6 [==============================] - 0s 3ms/step - loss: 0.2514 - accuracy: 0.8889\n",
            "Epoch 168/200\n",
            "6/6 [==============================] - 0s 3ms/step - loss: 0.2697 - accuracy: 0.8148\n",
            "Epoch 169/200\n",
            "6/6 [==============================] - 0s 3ms/step - loss: 0.3046 - accuracy: 0.8889\n",
            "Epoch 170/200\n",
            "6/6 [==============================] - 0s 2ms/step - loss: 0.2923 - accuracy: 0.8519\n",
            "Epoch 171/200\n",
            "6/6 [==============================] - 0s 3ms/step - loss: 0.3197 - accuracy: 0.9259\n",
            "Epoch 172/200\n",
            "6/6 [==============================] - 0s 3ms/step - loss: 0.2968 - accuracy: 0.8519\n",
            "Epoch 173/200\n",
            "6/6 [==============================] - 0s 3ms/step - loss: 0.3397 - accuracy: 0.8889\n",
            "Epoch 174/200\n",
            "6/6 [==============================] - 0s 3ms/step - loss: 0.2319 - accuracy: 0.8889\n",
            "Epoch 175/200\n",
            "6/6 [==============================] - 0s 3ms/step - loss: 0.3564 - accuracy: 0.8148\n",
            "Epoch 176/200\n",
            "6/6 [==============================] - 0s 3ms/step - loss: 0.2904 - accuracy: 0.8889\n",
            "Epoch 177/200\n",
            "6/6 [==============================] - 0s 3ms/step - loss: 0.3138 - accuracy: 0.7778\n",
            "Epoch 178/200\n",
            "6/6 [==============================] - 0s 3ms/step - loss: 0.2803 - accuracy: 0.8519\n",
            "Epoch 179/200\n",
            "6/6 [==============================] - 0s 3ms/step - loss: 0.3413 - accuracy: 0.7778\n",
            "Epoch 180/200\n",
            "6/6 [==============================] - 0s 3ms/step - loss: 0.2808 - accuracy: 0.9259\n",
            "Epoch 181/200\n",
            "6/6 [==============================] - 0s 3ms/step - loss: 0.2771 - accuracy: 0.8889\n",
            "Epoch 182/200\n",
            "6/6 [==============================] - 0s 3ms/step - loss: 0.2670 - accuracy: 0.8519\n",
            "Epoch 183/200\n",
            "6/6 [==============================] - 0s 3ms/step - loss: 0.2988 - accuracy: 0.9259\n",
            "Epoch 184/200\n",
            "6/6 [==============================] - 0s 3ms/step - loss: 0.2702 - accuracy: 0.8519\n",
            "Epoch 185/200\n",
            "6/6 [==============================] - 0s 3ms/step - loss: 0.2825 - accuracy: 0.8889\n",
            "Epoch 186/200\n",
            "6/6 [==============================] - 0s 3ms/step - loss: 0.2535 - accuracy: 0.8889\n",
            "Epoch 187/200\n",
            "6/6 [==============================] - 0s 3ms/step - loss: 0.2513 - accuracy: 0.9259\n",
            "Epoch 188/200\n",
            "6/6 [==============================] - 0s 3ms/step - loss: 0.2534 - accuracy: 0.8889\n",
            "Epoch 189/200\n",
            "6/6 [==============================] - 0s 3ms/step - loss: 0.2443 - accuracy: 0.8889\n",
            "Epoch 190/200\n",
            "6/6 [==============================] - 0s 3ms/step - loss: 0.3531 - accuracy: 0.8148\n",
            "Epoch 191/200\n",
            "6/6 [==============================] - 0s 3ms/step - loss: 0.2905 - accuracy: 0.8889\n",
            "Epoch 192/200\n",
            "6/6 [==============================] - 0s 3ms/step - loss: 0.2927 - accuracy: 0.8148\n",
            "Epoch 193/200\n",
            "6/6 [==============================] - 0s 3ms/step - loss: 0.2864 - accuracy: 0.8889\n",
            "Epoch 194/200\n",
            "6/6 [==============================] - 0s 3ms/step - loss: 0.4560 - accuracy: 0.8148\n",
            "Epoch 195/200\n",
            "6/6 [==============================] - 0s 3ms/step - loss: 0.2763 - accuracy: 0.8519\n",
            "Epoch 196/200\n",
            "6/6 [==============================] - 0s 3ms/step - loss: 0.2423 - accuracy: 0.8889\n",
            "Epoch 197/200\n",
            "6/6 [==============================] - 0s 3ms/step - loss: 0.2565 - accuracy: 0.8889\n",
            "Epoch 198/200\n",
            "6/6 [==============================] - 0s 3ms/step - loss: 0.2274 - accuracy: 0.9630\n",
            "Epoch 199/200\n",
            "6/6 [==============================] - 0s 3ms/step - loss: 0.3056 - accuracy: 0.8519\n",
            "Epoch 200/200\n",
            "6/6 [==============================] - 0s 3ms/step - loss: 0.3078 - accuracy: 0.8889\n"
          ]
        }
      ]
    },
    {
      "cell_type": "markdown",
      "source": [
        "# chat"
      ],
      "metadata": {
        "id": "np9uxQn976rh"
      }
    },
    {
      "cell_type": "code",
      "source": [
        "from tensorflow.keras.models import load_model"
      ],
      "metadata": {
        "id": "TLr-E8IF76cJ"
      },
      "execution_count": null,
      "outputs": []
    },
    {
      "cell_type": "code",
      "source": [
        "words = pickle.load(open('words.pkl', 'rb'))\n",
        "classes = pickle.load(open('classes.pkl', 'rb'))\n",
        "model = load_model('chatbot_model.h5')"
      ],
      "metadata": {
        "id": "MFC5iFOJ71hz"
      },
      "execution_count": null,
      "outputs": []
    },
    {
      "cell_type": "code",
      "source": [
        "def clean_up_sentence(sentence):\n",
        "    sentence_words = nltk.word_tokenize(sentence)\n",
        "    sentence_words = [lemmatizer.lemmatize(word.lower()) for word in sentence_words]\n",
        "    return sentence_words"
      ],
      "metadata": {
        "id": "HnLYuZLe7-TR"
      },
      "execution_count": null,
      "outputs": []
    },
    {
      "cell_type": "code",
      "source": [
        "def bag_of_words(sentence, words, show_details=True):\n",
        "    sentence_words = clean_up_sentence(sentence)\n",
        "    bag = [0] * len(words)\n",
        "    for s in sentence_words:\n",
        "        for i, word in enumerate(words):\n",
        "            if word == s:\n",
        "                bag[i] = 1\n",
        "                if show_details:\n",
        "                    print(\"found in bag: %s\" % word)\n",
        "    return(np.array(bag))"
      ],
      "metadata": {
        "id": "aKLNu4_w8ADy"
      },
      "execution_count": null,
      "outputs": []
    },
    {
      "cell_type": "code",
      "source": [
        "def predict_class(sentence, model):\n",
        "    p = bag_of_words(sentence, words, show_details=False)\n",
        "    res = model.predict(np.array([p]))[0]\n",
        "    ERROR_THRESHOLD = 0.25\n",
        "    results = [[i,r] for i,r in enumerate(res) if r>ERROR_THRESHOLD]\n",
        "    results.sort(key=lambda x: x[1], reverse=True)\n",
        "    return_list = []\n",
        "    for r in results:\n",
        "        return_list.append({\"intent\": classes[r[0]], \"probability\": str(r[1])})\n",
        "    return return_list"
      ],
      "metadata": {
        "id": "SdT6R6va8ENe"
      },
      "execution_count": null,
      "outputs": []
    },
    {
      "cell_type": "code",
      "source": [
        "predict_class(\"Hi\", model)"
      ],
      "metadata": {
        "colab": {
          "base_uri": "https://localhost:8080/"
        },
        "id": "3c8IPMJc8GBO",
        "outputId": "bd385bfc-8205-4138-f890-5551bbc0c1d0"
      },
      "execution_count": null,
      "outputs": [
        {
          "output_type": "execute_result",
          "data": {
            "text/plain": [
              "[{'intent': 'greeting', 'probability': '0.46060902'},\n",
              " {'intent': 'goodbye', 'probability': '0.32537037'}]"
            ]
          },
          "metadata": {},
          "execution_count": 37
        }
      ]
    },
    {
      "cell_type": "code",
      "source": [],
      "metadata": {
        "id": "ElyujIa08RUD"
      },
      "execution_count": null,
      "outputs": []
    }
  ]
}